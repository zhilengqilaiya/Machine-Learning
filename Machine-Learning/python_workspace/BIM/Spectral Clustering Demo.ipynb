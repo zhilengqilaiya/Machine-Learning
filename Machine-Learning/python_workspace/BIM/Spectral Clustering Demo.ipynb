{
 "cells": [
  {
   "cell_type": "markdown",
   "id": "38357152",
   "metadata": {},
   "source": [
    "# 生成数据"
   ]
  },
  {
   "cell_type": "code",
   "execution_count": 143,
   "id": "93054f42",
   "metadata": {},
   "outputs": [],
   "source": [
    "from sklearn import datasets\n",
    "\n",
    "# 在2D中生成一个包含较小圆的大圆的样本集\n",
    "def getTwoCircles(n_samples):\n",
    "    X,y = datasets.make_circles(n_samples, factor=0.5, noise=0.05)\n",
    "    return X,y"
   ]
  },
  {
   "cell_type": "markdown",
   "id": "5ecf432a",
   "metadata": {},
   "source": [
    "# 1 构图"
   ]
  },
  {
   "cell_type": "markdown",
   "id": "49c8bd51",
   "metadata": {},
   "source": [
    "### 1.1 构建距离矩阵"
   ]
  },
  {
   "cell_type": "code",
   "execution_count": 144,
   "id": "b0579490",
   "metadata": {},
   "outputs": [],
   "source": [
    "import numpy as np\n",
    "\n",
    "#定义欧式距离\n",
    "def euclidDistance(x1, x2, sqrt_flag=False):\n",
    "    res = np.sum((x1-x2)**2)\n",
    "    if sqrt_flag:\n",
    "        res = np.sqrt(res)\n",
    "    return res\n",
    " \n",
    "def calEuclidDistanceMatrix(X):\n",
    "    X = np.array(X)\n",
    "    S = np.zeros((len(X), len(X)))\n",
    "    for i in range(len(X)):\n",
    "        for j in range(i+1, len(X)):\n",
    "            S[i][j] = 1.0 * euclidDistance(X[i], X[j])\n",
    "            S[j][i] = S[i][j]\n",
    "    return S"
   ]
  },
  {
   "cell_type": "markdown",
   "id": "5cf7279e",
   "metadata": {},
   "source": [
    "### 1.2 构造近邻矩阵"
   ]
  },
  {
   "cell_type": "code",
   "execution_count": 145,
   "id": "125baec1",
   "metadata": {},
   "outputs": [
    {
     "data": {
      "text/plain": [
       "'\\n A是各个样本的K邻近矩阵，维度:n*n,K邻近有值，其余为0\\n'"
      ]
     },
     "execution_count": 145,
     "metadata": {},
     "output_type": "execute_result"
    }
   ],
   "source": [
    "'''\n",
    "KNN算法：\n",
    "  如果一个样本在特征空间中的K个最相似（即特征空间中最邻近）的样本中的大多数\n",
    "  属于某一个类别，则该样本也属于这个类别。\n",
    "  该方法在定类决策上只依据最邻近的一个或者几个样本的类别\n",
    "  来决定待分样本所属的类别\n",
    "'''\n",
    "import numpy as np\n",
    " \n",
    "def myKNN(S, k, sigma=1.0):\n",
    "    N = len(S)\n",
    "    #返回矩阵的行数\n",
    "    A = np.zeros((N,N))\n",
    "    #下为找xi的K邻近\n",
    "    for i in range(N):\n",
    "        dist_with_index = zip(S[i], range(N))\n",
    "        #矩阵的第i行各个元素，与长度为数字N的tuple（元组）集合，组成列表\n",
    "        #[(ai1,0),(ai2,1),,,]\n",
    "        dist_with_index = sorted(dist_with_index, key=lambda x:x[0])\n",
    "        #按列表的第一个元素升序排列\n",
    "        neighbours_id = [dist_with_index[m][1] for m in range(k+1)] \n",
    "        # xi's k-nearest neighbours\n",
    "        #返回K邻近的列坐标\n",
    "        for j in neighbours_id: # xj is xi's neighbour\n",
    "            A[i][j] = np.exp(-S[i][j]/2/sigma/sigma)\n",
    "            #高斯核函数:随着两个向量的距离增大，高斯核函数单调递减\n",
    "            #np.exp=e^x\n",
    "            A[j][i] = A[i][j] # mutually\n",
    "    return A\n",
    "'''\n",
    " A是各个样本的K邻近矩阵，维度:n*n,K邻近有值，其余为0\n",
    "'''"
   ]
  },
  {
   "cell_type": "markdown",
   "id": "2f51ceb4",
   "metadata": {},
   "source": [
    "### 1.3 构建标准化的拉普拉斯矩阵L=D-W"
   ]
  },
  {
   "cell_type": "code",
   "execution_count": 146,
   "id": "661fb3b0",
   "metadata": {},
   "outputs": [],
   "source": [
    "import numpy as np\n",
    " \n",
    "def calLaplacianMatrix(adjacentMatrix):\n",
    " \n",
    "    # compute the Degree Matrix: D=sum(A)\n",
    "    degreeMatrix = np.sum(adjacentMatrix, axis=1)\n",
    " \n",
    "    # print degreeMatrix\n",
    " \n",
    "    # compute the Laplacian Matrix: L=D-A\n",
    "    laplacianMatrix = np.diag(degreeMatrix) - adjacentMatrix\n",
    "    #np.diag:以一维数组的形式返回方阵的对角线\n",
    "    # print laplacianMatrix\n",
    " \n",
    "    # normailze\n",
    "    # D^(-1/2) L D^(-1/2)\n",
    "    sqrtDegreeMatrix = np.diag(1.0 / (degreeMatrix ** (0.5)))\n",
    "    #**:返回x的y次幂\n",
    "    return np.dot(np.dot(sqrtDegreeMatrix, laplacianMatrix), sqrtDegreeMatrix) \n",
    "    #np.dot:矩阵乘法\n"
   ]
  },
  {
   "cell_type": "markdown",
   "id": "7955f2da",
   "metadata": {},
   "source": [
    "# 2 切图"
   ]
  },
  {
   "cell_type": "markdown",
   "id": "9018317a",
   "metadata": {},
   "source": [
    "### 2.1 特征值分解、K-means"
   ]
  },
  {
   "cell_type": "code",
   "execution_count": 147,
   "id": "2b51c480",
   "metadata": {},
   "outputs": [],
   "source": [
    "from matplotlib import pyplot as plt\n",
    "from itertools import cycle, islice\n",
    "import numpy as np\n",
    " \n",
    "from matplotlib.pyplot import title\n",
    " \n",
    "def plot(X, y, title):\n",
    "    colors = np.array(list(islice(\n",
    "        cycle(['#4daf4a', '#ff7f00']),\n",
    "        int(max(y) + 1))))\n",
    "    plt.title(title)\n",
    "    plt.scatter(X[:, 0], X[:, 1], s=10, color=colors[y])\n",
    "    plt.savefig(str(title)+\".png\")"
   ]
  },
  {
   "cell_type": "code",
   "execution_count": 153,
   "id": "91f3e0e4",
   "metadata": {},
   "outputs": [
    {
     "ename": "TypeError",
     "evalue": "scatter() missing 1 required positional argument: 'y'",
     "output_type": "error",
     "traceback": [
      "\u001b[1;31m---------------------------------------------------------------------------\u001b[0m",
      "\u001b[1;31mTypeError\u001b[0m                                 Traceback (most recent call last)",
      "\u001b[1;32md:\\workspace\\python_workspace\\BIM\\Spectral Clustering Demo.ipynb Cell 13\u001b[0m in \u001b[0;36m<cell line: 43>\u001b[1;34m()\u001b[0m\n\u001b[0;32m     <a href='vscode-notebook-cell:/d%3A/workspace/python_workspace/BIM/Spectral%20Clustering%20Demo.ipynb#X15sZmlsZQ%3D%3D?line=40'>41</a>\u001b[0m name \u001b[39m=\u001b[39m [\u001b[39m'\u001b[39m\u001b[39mspectral_clustering\u001b[39m\u001b[39m'\u001b[39m,\u001b[39m'\u001b[39m\u001b[39mkmeans_clustering\u001b[39m\u001b[39m'\u001b[39m,\u001b[39m'\u001b[39m\u001b[39minit_data\u001b[39m\u001b[39m'\u001b[39m]\n\u001b[0;32m     <a href='vscode-notebook-cell:/d%3A/workspace/python_workspace/BIM/Spectral%20Clustering%20Demo.ipynb#X15sZmlsZQ%3D%3D?line=41'>42</a>\u001b[0m plt\u001b[39m.\u001b[39mtitle(\u001b[39m\"\u001b[39m\u001b[39minit_data\u001b[39m\u001b[39m\"\u001b[39m)\n\u001b[1;32m---> <a href='vscode-notebook-cell:/d%3A/workspace/python_workspace/BIM/Spectral%20Clustering%20Demo.ipynb#X15sZmlsZQ%3D%3D?line=42'>43</a>\u001b[0m plt\u001b[39m.\u001b[39;49mscatter(\u001b[39m'\u001b[39;49m\u001b[39m#4daf4a\u001b[39;49m\u001b[39m'\u001b[39;49m)\n\u001b[0;32m     <a href='vscode-notebook-cell:/d%3A/workspace/python_workspace/BIM/Spectral%20Clustering%20Demo.ipynb#X15sZmlsZQ%3D%3D?line=43'>44</a>\u001b[0m plt\u001b[39m.\u001b[39msavefig(\u001b[39m\"\u001b[39m\u001b[39minit_data\u001b[39m\u001b[39m\"\u001b[39m\u001b[39m+\u001b[39m\u001b[39m\"\u001b[39m\u001b[39m.png\u001b[39m\u001b[39m\"\u001b[39m)\n\u001b[0;32m     <a href='vscode-notebook-cell:/d%3A/workspace/python_workspace/BIM/Spectral%20Clustering%20Demo.ipynb#X15sZmlsZQ%3D%3D?line=44'>45</a>\u001b[0m plot(data, kmeans\u001b[39m.\u001b[39mlabels_, name[\u001b[39m1\u001b[39m])\n",
      "\u001b[1;31mTypeError\u001b[0m: scatter() missing 1 required positional argument: 'y'"
     ]
    },
    {
     "data": {
      "image/png": "[encoded data removed]",
      "text/plain": [
       "<Figure size 432x288 with 1 Axes>"
      ]
     },
     "metadata": {
      "needs_background": "light"
     },
     "output_type": "display_data"
    }
   ],
   "source": [
    "from sklearn.cluster import KMeans\n",
    "from matplotlib import pyplot as plt\n",
    "import numpy as np\n",
    " \n",
    "np.random.seed(1)\n",
    "'''\n",
    " seed( ) 用于指定随机数生成时所用算法开始的整数值。\n",
    " 1.如果使用相同的seed( )值，则每次生成的随即数都相同；\n",
    " 2.如果不设置这个值，则系统根据时间来自己选择这个值，\n",
    "   此时每次生成的随机数因时间差异而不同。\n",
    " 3.设置的seed()值仅一次有效\n",
    "'''\n",
    " \n",
    "data, label = getTwoCircles(n_samples=100)\n",
    "# 返回data(生成的样本)；label(每个样本的类成员的整数标签0或1)\n",
    " \n",
    "Similarity = calEuclidDistanceMatrix(data)\n",
    "# 返回Similarity(样本距离矩阵)N*N\n",
    " \n",
    "Adjacent = myKNN(Similarity, k=4)\n",
    "# 返回A(K邻近矩阵)N*N，将距离转为相似度，K邻近有值，其余为0\n",
    "Laplacian = calLaplacianMatrix(Adjacent)\n",
    "# Laplacian:返回拉普拉斯算子运算D^(-1/2) L D^(-1/2)\n",
    "x, V = np.linalg.eig(Laplacian)\n",
    "# 计算方形矩阵Laplacian的特征值和特征向量\n",
    "# x多个特征值组成的一个矢量\n",
    "# V多个特征向量组成的一个矩阵。\n",
    "# 每一个特征向量都被归一化了。\n",
    "# 第i列的特征向量v[:,i]对应第i个特征值x[i]。\n",
    "x = zip(x, range(len(x)))\n",
    "# 特征值与序号组成列表\n",
    "x = sorted(x, key=lambda x: x[0])\n",
    "# 按列表的第一个元素(特征值)升序排列\n",
    "H = np.vstack([V[:, i] for (v, i) in x[:100]]).T\n",
    "# 取最小的100个特征值对应的特征行向量\n",
    "# 按垂直方向（行顺序）堆叠数组构成一个新的数组,然后转置\n",
    "kmeans = KMeans(n_clusters=2).fit(data)\n",
    "# 使用原始数据训练KMeans，聚类为2簇\n",
    "sp_kmeans = KMeans(n_clusters=2).fit(H)\n",
    "# 使用H训练KMeans，聚类为2簇\n",
    "name = ['spectral_clustering','kmeans_clustering']\n",
    "plot(data, kmeans.labels_, name[1])\n",
    "plot(data, sp_kmeans.labels_, name[0])\n",
    "# 画图进行比较\n"
   ]
  },
  {
   "cell_type": "code",
   "execution_count": null,
   "id": "73c6ecec",
   "metadata": {},
   "outputs": [],
   "source": []
  }
 ],
 "metadata": {
  "kernelspec": {
   "display_name": "Python 3.9.12 ('base')",
   "language": "python",
   "name": "python3"
  },
  "language_info": {
   "codemirror_mode": {
    "name": "ipython",
    "version": 3
   },
   "file_extension": ".py",
   "mimetype": "text/x-python",
   "name": "python",
   "nbconvert_exporter": "python",
   "pygments_lexer": "ipython3",
   "version": "3.9.12"
  },
  "vscode": {
   "interpreter": {
    "hash": "8e60924addf39b8167d76885f7ab298a85d8925229943489d1c5a797d297d03e"
   }
  }
 },
 "nbformat": 4,
 "nbformat_minor": 5
}
