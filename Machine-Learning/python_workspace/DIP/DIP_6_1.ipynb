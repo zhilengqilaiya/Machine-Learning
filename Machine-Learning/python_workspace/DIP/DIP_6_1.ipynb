{
 "cells": [
  {
   "cell_type": "markdown",
   "metadata": {},
   "source": [
    "# Otsu算法的实现"
   ]
  },
  {
   "cell_type": "markdown",
   "metadata": {},
   "source": [
    "### 读取MPA.pgm图片"
   ]
  },
  {
   "cell_type": "code",
   "execution_count": 48,
   "metadata": {},
   "outputs": [
    {
     "name": "stdout",
     "output_type": "stream",
     "text": [
      "(69, 138)\n"
     ]
    }
   ],
   "source": [
    "import cv2\n",
    "\n",
    "img = cv2.imread(\"MRA.pgm\")\n",
    "img_gray = cv2.cvtColor(img, cv2.COLOR_RGB2GRAY)  # 将图像转换成灰度图\n",
    "print(img_gray.shape)\n",
    "cv2.imshow(\"img_gray\", img_gray)\n",
    "k = cv2.waitKey(0)\n",
    "if k == 27:         # 按下esc时，退出\n",
    "    cv2.destroyAllWindows()\n",
    "elif k == ord('s'): # 按下s键时保存并退出\n",
    "    cv2.imwrite('img_gray.png',img)\n",
    "    cv2.destroyAllWindows()"
   ]
  },
  {
   "cell_type": "markdown",
   "metadata": {},
   "source": [
    "### 直接调用opencv的函数"
   ]
  },
  {
   "cell_type": "code",
   "execution_count": 4,
   "metadata": {},
   "outputs": [
    {
     "name": "stdout",
     "output_type": "stream",
     "text": [
      "调用opencv函数的结果：20.0\n"
     ]
    }
   ],
   "source": [
    "import cv2\n",
    "\n",
    "img = cv2.imread(\"MRA.pgm\", cv2.IMREAD_GRAYSCALE)\n",
    "retVal, img_Otsu_opencv = cv2.threshold(img, 0, 255, cv2.THRESH_OTSU)\n",
    "print(\"调用opencv函数的结果：\" + str(retVal))\t# 结果为 20.0\n",
    "cv2.imshow(\"image_Otsu\", img_Otsu_opencv)\n",
    "k = cv2.waitKey(0)\n",
    "if k == 27:         # 按下esc时，退出\n",
    "    cv2.destroyAllWindows()\n",
    "elif k == ord('s'): # 按下s键时保存并退出\n",
    "    cv2.imwrite('img_Otsu_opencv.png',img_Otsu_opencv)\n",
    "    cv2.destroyAllWindows()"
   ]
  },
  {
   "cell_type": "markdown",
   "metadata": {},
   "source": [
    "### 使用numpy自己实现算法"
   ]
  },
  {
   "cell_type": "code",
   "execution_count": 58,
   "metadata": {},
   "outputs": [
    {
     "name": "stdout",
     "output_type": "stream",
     "text": [
      "使用numpy的方法：21\n"
     ]
    }
   ],
   "source": [
    "import numpy as np\n",
    "import cv2 as cv\n",
    "\n",
    "img = cv2.imread(\"MRA.pgm\", cv2.IMREAD_GRAYSCALE)\n",
    "img_gray=np.array(img_gray).ravel().astype(np.uint8)\n",
    "u1=0.0#背景像素的平均灰度值\n",
    "u2=0.0#前景像素的平均灰度值\n",
    "th=0.0\n",
    "\n",
    "#总的像素数目\n",
    "PixSum=img_gray.size\n",
    "# 各个灰度值的像素数目\n",
    "PixCount=np.zeros(256)\n",
    "#各灰度值所占总像素数的比例\n",
    "PixRate=np.zeros(256)\n",
    "#统计各个灰度值的像素个数\n",
    "for i in range(PixSum):\n",
    "    #默认灰度图像的像素值范围为256\n",
    "    Pixvalue=img_gray[i]\n",
    "    PixCount[Pixvalue]=PixCount[Pixvalue]+1\n",
    "    \n",
    "#确定各个灰度值对应的像素点的个数在所有的像素点中的比例。\n",
    "for j in range(256):\n",
    "    PixRate[j]=PixCount[j]*1.0/PixSum\n",
    "Max_var = 0\n",
    "#确定最大类间方差对应的阈值\n",
    "for i in range(1,256):#从1开始是为了避免w1为0.\n",
    "    u1_tem=0.0\n",
    "    u2_tem=0.0\n",
    "    #背景像素的比列\n",
    "    w1=np.sum(PixRate[:i])\n",
    "    #前景像素的比例\n",
    "    w2=1.0-w1\n",
    "    if w1==0 or w2==0:\n",
    "        pass\n",
    "    else:#背景像素的平均灰度值\n",
    "        for m in range(i):\n",
    "            u1_tem=u1_tem+PixRate[m]*m\n",
    "        u1 = u1_tem * 1.0 / w1\n",
    "        #前景像素的平均灰度值\n",
    "        for n in range(i,256):\n",
    "            u2_tem = u2_tem + PixRate[n]*n\n",
    "        u2 = u2_tem / w2\n",
    "        #print(u1)\n",
    "        #类间方差公式：G=w1*w2*(u1-u2)**2\n",
    "        tem_var=w1*w2*np.power((u1-u2),2)\n",
    "        #print(tem_var)\n",
    "        #判断当前类间方差是否为最大值。\n",
    "        if Max_var<tem_var:\n",
    "            Max_var=tem_var#深拷贝，Max_var与tem_var占用不同的内存空间。\n",
    "            th=i\n",
    "print(\"使用numpy的方法：\" + str(th))\t\t# 结果为21\n",
    "\n",
    "result,img_otsu=cv2.threshold(img, 0, 255, cv.THRESH_BINARY+cv.THRESH_OTSU)\n",
    "\n",
    "# 展示图像\n",
    "cv2.imshow(\"img_otsu\", img_otsu)\n",
    "k = cv2.waitKey(0)\n",
    "if k == 27:         # 按下esc时，退出\n",
    "    cv2.destroyAllWindows()\n",
    "elif k == ord('s'): # 按下s键时保存并退出\n",
    "    cv2.imwrite('img_otsu.png',img_otsu)\n",
    "    cv2.destroyAllWindows()"
   ]
  },
  {
   "cell_type": "markdown",
   "metadata": {},
   "source": [
    "### 绘制灰度直方图"
   ]
  },
  {
   "cell_type": "code",
   "execution_count": 11,
   "metadata": {},
   "outputs": [
    {
     "data": {
      "image/png": "[encoded data removed]",
      "text/plain": [
       "<Figure size 432x288 with 1 Axes>"
      ]
     },
     "metadata": {
      "needs_background": "light"
     },
     "output_type": "display_data"
    }
   ],
   "source": [
    "import numpy as np\n",
    "import cv2 as cv\n",
    "from matplotlib import pyplot as plt\n",
    "\n",
    "img = cv2.imread(\"MRA.pgm\")\n",
    "img_gray = cv2.cvtColor(img, cv2.COLOR_RGB2GRAY)  # 将图像转换成灰度图\n",
    "# hist是256x1数组，每个值对应于该图像中具有相应像素值的像素数\n",
    "hist = cv.calcHist([img_gray],[0],None,[256],[0,256])\n",
    "# 绘制直方图\n",
    "plt.plot(hist)\n",
    "plt.show()"
   ]
  },
  {
   "cell_type": "code",
   "execution_count": 81,
   "metadata": {},
   "outputs": [
    {
     "name": "stdout",
     "output_type": "stream",
     "text": [
      "类间方差最大阈值： 55\n"
     ]
    }
   ],
   "source": [
    "import numpy as np\n",
    "import cv2 as cv\n",
    "\n",
    "def RCOtsu(gray_image,th_begin,th_end):\n",
    "    # th_begin到th_end即为基于直方图判断出的感兴趣的区域\n",
    "    h = gray_image.shape[0]\n",
    "    w = gray_image.shape[1]\n",
    "    threshold_t = 0\n",
    "    max_g = 0\n",
    "    \n",
    "    # 遍历每一个灰度层\n",
    "    for t in range(th_begin,th_end):\n",
    "        n0 = gray_image[np.where(gray_image < t)]\n",
    "        n1 = gray_image[np.where(gray_image >= t)]\n",
    "        w0 = len(n0) / (h * w)\n",
    "        w1 = len(n1) / (h * w)\n",
    "        u0 = np.mean(n0) if len(n0) > 0 else 0.\n",
    "        u1 = np.mean(n1) if len(n0) > 0 else 0.\n",
    "        \n",
    "        g = w0 * w1 * (u0 - u1) ** 2\n",
    "        if g > max_g:\n",
    "            max_g = g\n",
    "            threshold_t = t\n",
    "            \n",
    "    after_otsu = gray_image.copy()\n",
    "    print('类间方差最大阈值：', threshold_t)\n",
    "    \n",
    "    after_otsu[gray_image < threshold_t] = 0\n",
    "    after_otsu[gray_image >= threshold_t] = 255\n",
    "    return after_otsu\n",
    "\n",
    "\n",
    "img = cv2.imread(\"MRA.pgm\")\n",
    "img_gray = cv2.cvtColor(img, cv2.COLOR_RGB2GRAY)  # 将图像转换成灰度图\n",
    "img_RCOtsu = RCOtsu(img_gray, 40, 120)  # 基于直方图判断出感兴趣的区域大概在灰度值为40到120的区域\n",
    "\n",
    "cv2.imshow(\"img_RCOtsu\", img_RCOtsu)\n",
    "k = cv2.waitKey(0)\n",
    "if k == 27:         # 按下esc时，退出\n",
    "    cv2.destroyAllWindows()\n",
    "elif k == ord('s'): # 按下s键时保存并退出\n",
    "    cv2.imwrite('img_RCOtsu.png',img_RCOtsu)\n",
    "    cv2.destroyAllWindows()\n"
   ]
  },
  {
   "cell_type": "code",
   "execution_count": null,
   "metadata": {},
   "outputs": [],
   "source": []
  }
 ],
 "metadata": {
  "kernelspec": {
   "display_name": "Python 3.9.12 ('base')",
   "language": "python",
   "name": "python3"
  },
  "language_info": {
   "codemirror_mode": {
    "name": "ipython",
    "version": 3
   },
   "file_extension": ".py",
   "mimetype": "text/x-python",
   "name": "python",
   "nbconvert_exporter": "python",
   "pygments_lexer": "ipython3",
   "version": "3.9.12 (main, Apr  4 2022, 05:22:27) [MSC v.1916 64 bit (AMD64)]"
  },
  "orig_nbformat": 4,
  "vscode": {
   "interpreter": {
    "hash": "8e60924addf39b8167d76885f7ab298a85d8925229943489d1c5a797d297d03e"
   }
  }
 },
 "nbformat": 4,
 "nbformat_minor": 2
}
